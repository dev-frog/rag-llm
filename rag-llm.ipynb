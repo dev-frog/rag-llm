{
 "cells": [
  {
   "cell_type": "code",
   "execution_count": 23,
   "metadata": {},
   "outputs": [
    {
     "data": {
      "text/plain": [
       "True"
      ]
     },
     "execution_count": 23,
     "metadata": {},
     "output_type": "execute_result"
    }
   ],
   "source": [
    "import os\n",
    "from dotenv import load_dotenv\n",
    "\n",
    "load_dotenv()"
   ]
  },
  {
   "cell_type": "code",
   "execution_count": 24,
   "metadata": {},
   "outputs": [],
   "source": [
    "os.environ['OPENAI_API_KEY'] = os.getenv('OPENAI_API_KEY')"
   ]
  },
  {
   "cell_type": "code",
   "execution_count": 25,
   "metadata": {},
   "outputs": [],
   "source": [
    "from llama_index.core import Settings, VectorStoreIndex, SimpleDirectoryReader"
   ]
  },
  {
   "cell_type": "code",
   "execution_count": 26,
   "metadata": {},
   "outputs": [
    {
     "name": "stderr",
     "output_type": "stream",
     "text": [
      "Generating embeddings:  95%|█████████▍| 18/19 [04:23<00:14, 14.67s/it]\n"
     ]
    }
   ],
   "source": [
    "documents = SimpleDirectoryReader('data').load_data()"
   ]
  },
  {
   "cell_type": "code",
   "execution_count": 27,
   "metadata": {},
   "outputs": [
    {
     "data": {
      "text/plain": [
       "[Document(id_='a16bcd96-95db-494d-aed3-34069fdf513b', embedding=None, metadata={'page_label': '1', 'file_name': '01Chapter01.pdf', 'file_path': '/mnt/code/frog/rag-llm/data/01Chapter01.pdf', 'file_type': 'application/pdf', 'file_size': 451575, 'creation_date': '2024-06-22', 'last_modified_date': '2024-06-22'}, excluded_embed_metadata_keys=['file_name', 'file_type', 'file_size', 'creation_date', 'last_modified_date', 'last_accessed_date'], excluded_llm_metadata_keys=['file_name', 'file_type', 'file_size', 'creation_date', 'last_modified_date', 'last_accessed_date'], relationships={}, text=\"CHAPTER 1 \\nINTRODUCTION \\n1.1 Geography and Economy \\nGeography \\nBangladesh, a small country of 147,570 square kilometers, and 111.4 million people, emerged on \\nMarch 26, 1941 as an independent country on the world's map following a war of liberation. It is almost \\nentirely surrounded by India, except for a short southeastern frontier with Myanrnar and a south deltaic \\ncoastline on the Bay of Bengal. It stretches between 20 ° 34' and 26 ° 38' north latitude and 88 ° 01' and 92 ° \\n41' east longitude. \\nThe most significant feature of the landscape is the extensive network of large and small rivers that \\nare of primary importance in the socioeconomic life of the nation. Chief among these, and lying like a fan \\non the face of the land are the Ganges-Padma, Brahmaputra-Jamuna, and the Megna. \\nThe climate of Bangladesh is dominated by seasonally reversing monsoons. It experiences a hot \\nsummer season with high humidity from March to June, a somewhat cooler but still hot and humid monsoon \\nseason from July through early October, and a cool, dry winter from November to the end of February. The \\nfertile delta is frequented by natural calamities such as flood, cyclone, tidal-bore and drought. \\nFor administrative purposes, the country is divided into five divisions, ~ 64 districts, and 489 thanas \\n(subdistricts) (BBS, 1993:3). Muslims constitute about 85 percent of the population of Bangladesh, Hindus \\nabout 14 percent, and Christians and others less than one percent. \\nA small fraction of the population consists of several ethnic groups which are distinct in terms of \\nlanguage, race, religion, and customs. The national language of Bangladesh is Bangla, which is spoken and \\nunderstood by all. \\nEconomy \\nAgriculture is the most important sector of the nation's economy. It accounts for nearly 34 percent \\nof the gross domestic product (GDP) and provides employment to about 66 percent of the workforce (BBS, \\n1993:224,104). Jute is the main non-food crop and the main cash crop of Bangladesh. About 15 percent of \\nthe cultivated land is used for crops other than jute and rice. Industry, though small, is increasing in \\nimportance as a result of foreign investments. Prospects for mineral resources, gas, coal, oil, appear to be \\nbright in the near future. The per capita income is only US$210 (GB, 1994:2). Unemployment/underemploy- \\nment is a serious problem, and pressure on the land in rural areas has led to a constant influx of people from \\nrural to urban areas. \\nThe fifth division, Barisal, was created in 1992 by subdividing the former Khulna Division. \\n\", mimetype='text/plain', start_char_idx=None, end_char_idx=None, text_template='{metadata_str}\\n\\n{content}', metadata_template='{key}: {value}', metadata_seperator='\\n'),\n",
       " Document(id_='e3e12ed7-68d9-493a-ae2e-f9f5ef7e2a80', embedding=None, metadata={'page_label': '2', 'file_name': '01Chapter01.pdf', 'file_path': '/mnt/code/frog/rag-llm/data/01Chapter01.pdf', 'file_type': 'application/pdf', 'file_size': 451575, 'creation_date': '2024-06-22', 'last_modified_date': '2024-06-22'}, excluded_embed_metadata_keys=['file_name', 'file_type', 'file_size', 'creation_date', 'last_modified_date', 'last_accessed_date'], excluded_llm_metadata_keys=['file_name', 'file_type', 'file_size', 'creation_date', 'last_modified_date', 'last_accessed_date'], relationships={}, text='1.2 Population \\nDemographic Situation \\nThe population size and growth rate of the country have undergone significant changes over the past \\nfew decades. The population of the area which now constitutes Bangladesh was about 42 million in 1941. \\nSince then, Bangladesh has experienced relatively high rates of population growth. The total population of \\nBangladesh grew from 76 million in 1974 to 90 million in 1981 and to 111 million in 1991 (BBS, 1993:92). \\nThe intereensal growth rate of population peaked in the mid- 1970s at around 2.5 percent per annum, followed \\nby a continuing decline to 2.2 percent in 1991 (BBS, 1993:92). The 1991 census indicated that 45 percent \\nof the population is below 15 years of age, 52 percent are between 15 and 64 years and 3 percent are age 65 \\nor over (BBS, 1993:84). The relatively young age structure of the population indicates continued rapid \\npopulation growth in the future. From 1975 to 1990, the elderly population (age 65 and above) increased \\nfrom 2 to 3.1 million, and it is expected to increase to 4.3 million by the year 2005 (GB, 1994:17). \\nThere has been a substantial rise in the age at marriage. The mean age at first marriage for women \\nhas increased from 16.6 years in 1974 to 18.2 years in 1991; it increased from 23.9 to 25.3 years for men \\nduring the same period (BBS, 1993:86). \\nThe total fertility rate has decreased from about 6.3 in the mid- 1970s (MHPC, 1978:73) to 4.2 in 1990 \\n(Mitra et al., 1993:35). There has been a substantial decline in the crude birth rate in Bangladesh. It was 34.4 \\nbirths per 1,000 population in 1986, declined to 32.8 in 1990, and then to 30.8 in 1992 (BBS, 1993:87). \\nStriking changes in the fertility preferences of married Bangladeshi women have been observed. In \\n1975, the mean desired family size was 4.1 children. In 1989, the desired family size, on average, dropped \\nto 2.9 children, leaving the way open for further fertility decline (Huq and Cleland, 1990:53,54). Young \\nwomen desired even smaller families, 2.5 children on average, a level close to replacement fertility. \\nThe crude death rate has fallen dramatically in Bangladesh from about 19 per 1,000 population in \\n1975 to 11.3 in 1990 (GB, 1994:4). Although infant and under-five mortality rates are declining, they are \\nstill high. The infant mortality rate was 150 deaths per 1,0(30 live births in 1975, and fell to about 110 in 1988 \\nand 88 in 1992 (GB, 1994:5). Under-five child mortality, estimated at 24 per 1,000 births in 1982, declined \\nto 19 in 1989 and to 14 in 1990 (GB, 1994:5). Maternal mortality has come down from 620 deaths per \\n100,000 births in 1982 to 470 in 1992. This small but important decline is mainly attributed to increased \\navailability of family planning and immunization services, improved antenatal and delivery care, and a \\nreduction in the number of births to high-risk mothers. \\nThere is evidence of modest improvement in life expectancy during the past decade. Life expectancy \\nat birth was 46 years for males and 47 years for females in 1974 (U.N., 1981:60). It increased to 57.4 years \\nfor men and 56.8 years for women in 1992 (GB, 1994:5). \\nDemographic Transition \\nIt can now be safely said that the demographic transition has started in Bangladesh. The country has \\npassed through two phases of the classic demographic transition. It is now in the third phase when birth rates \\ndecline, but remain significantly higher than the death rates, resulting in continued but slower population \\ngrowth. The decline in the population growth rate would have been even greater had it not been for the \\ndecline in mortality. \\n2 \\n', mimetype='text/plain', start_char_idx=None, end_char_idx=None, text_template='{metadata_str}\\n\\n{content}', metadata_template='{key}: {value}', metadata_seperator='\\n'),\n",
       " Document(id_='08de9151-0b90-41ea-b802-b18980b05ccb', embedding=None, metadata={'page_label': '3', 'file_name': '01Chapter01.pdf', 'file_path': '/mnt/code/frog/rag-llm/data/01Chapter01.pdf', 'file_type': 'application/pdf', 'file_size': 451575, 'creation_date': '2024-06-22', 'last_modified_date': '2024-06-22'}, excluded_embed_metadata_keys=['file_name', 'file_type', 'file_size', 'creation_date', 'last_modified_date', 'last_accessed_date'], excluded_llm_metadata_keys=['file_name', 'file_type', 'file_size', 'creation_date', 'last_modified_date', 'last_accessed_date'], relationships={}, text='Fertility in Bangladesh is declining, yet the growth rate of the population is still high and its \\nconsequences have adverse effects on various development efforts. One significant consequence of high \\nfertility and the declining mortality trend is a built-in \"population momentum,\" which will continue to \\ngenerate population increases well into the future, even in the face of rapid fertility decline. \\nIn 1992, Bangladesh had around 22 million married women in the reproductive ages; by the year \\n2001, this number is projected to rise to 31 million (GB, 1994:8). The government has set a goal of reaching \\nreplacement level fertility by the year 2005 (GB, 1994:6). Even if this occurs, the population will continue \\nto grow for the next 40 to 60 years after 2005. One projection suggests that the population of Bangladesh \\nmay stabilize at 211 million by 2056. By the year 2010, Bangladesh is likely to have a population of about \\n150 million. The demographic goal is difficult but not impossible to achieve, in view of the trends already \\nestablished in the success of family planning, maternal and child health, and other socioeconomic \\ndevelopment programs. \\n1.3 Population, Family Planning and Maternal and Child Health Policies and Programs \\nFamily planning was introduced in the early 1950s through the voluntary efforts of social and medical \\nworkers. The govemment, recognizing the urgency of moderating population growth, adopted family \\nplanning as a govemment sector program in 1965. The present family planning infrastructure of Bangladesh \\nhas evolved in a process of development over the iast 35 years. \\nThe policy to reduce fertility rates has been repeatedly reaffirmed since liberation in 1971. The First \\nFive-Year Plan (1973-78) of Bangladesh amplified \"the necessity of immediate adoption of drastic steps to \\nslow down the population growth\" and reiterated that, \"no civilized measure would be too drastic to keep the \\npopulation of Bangladesh on the smaller side of fifteen crore (i.e., 150 million) for sheer ecological viability \\nof the nation\" (GB, 1994:7). Through three five-year plans, successive population programs contained new \\nstrategies to streamline administrative structures and reformulate program goals and objectives. \\nFrom mid-1972, the family planning program received virtually unanimous, high-level political \\nsupport. All subsequent governments that have come into power in Bangladesh have identified population \\ncontrol as the top priority for govermnent action. This political commitment is crucial in understanding the \\nfertility decline in Bangladesh. The national policy went through several phases of evolution in response to \\nemerging needs and circumstances. In 1976, accelerated growth of population was declared the country\\'s \\nnumber one problem; a population policy was outlined, operational strategies were worked out, specific field \\nprograms were developed, and organizational and management arrangements were made for implementing \\nthe programs. Population planning was seen as an integral part of the total development process, and was \\nincorporated into successive five-year plans. The population policy is formulated by the National Population \\nCouncil (NPC), chaired by the Prime Minister and including about 350 members comprising eminent \\npersonalities from different walks of life. \\nDevelopment of Program Approach \\nBangladesh population policy and programs have evolved through a series of development phases \\nand have undergone changes in terms of strategies, structure, contents, and goals. The five distinct and broad \\nphases may be identified as: (a) private and voluntary clinic-based programs (1953-60), (b) family planning \\nservices through limited government health care facilities (1960-65), (c) large-scale field-based government \\nfamily planning programs (1965-75), (d) maternal and child health (MCH)-supported multi-sectoral family \\nplanning programs (1975-80), and (e) functionally integrated health and family planning programs with \\nemphasis on MCH, primary health care, and family planning as a package, since 1980. The latest approach \\nhas been a shift towards launching a family planning social movement to raise and sustain awareness and \\ninterest in all segments of society about fertility reduction as a strategy for sustainable development. \\n3 \\n', mimetype='text/plain', start_char_idx=None, end_char_idx=None, text_template='{metadata_str}\\n\\n{content}', metadata_template='{key}: {value}', metadata_seperator='\\n'),\n",
       " Document(id_='913ba8fa-003c-4205-8338-e47201b7d7ef', embedding=None, metadata={'page_label': '4', 'file_name': '01Chapter01.pdf', 'file_path': '/mnt/code/frog/rag-llm/data/01Chapter01.pdf', 'file_type': 'application/pdf', 'file_size': 451575, 'creation_date': '2024-06-22', 'last_modified_date': '2024-06-22'}, excluded_embed_metadata_keys=['file_name', 'file_type', 'file_size', 'creation_date', 'last_modified_date', 'last_accessed_date'], excluded_llm_metadata_keys=['file_name', 'file_type', 'file_size', 'creation_date', 'last_modified_date', 'last_accessed_date'], relationships={}, text=\"The current policy and programs emphasize strategies that have an integrated approach to population \\nplanning and development. These are: \\n• Tuming the family planning program into a social movement to increase social acceptance \\nof family planning; \\nIntegrating the delivery of family planning and maternal and child health services; \\nPromoting education (especially for girls); \\nImproving the status of women; \\n• Mobilizing community participation; \\nEnsuring voluntarism and enhancing method choice through a cafeteria approach; \\n• Enhancing a multi-/intersectoral approach to family planning education and service delivery; \\nInvolving nongovernmental organizations (NGOs) and the private sector to complement \\ngovernment efforts; \\n• Expanding the number of service outlets; \\n• Improving the quality of services; and \\n• Promoting program sustainability by enhancing in-country production of contraceptives and \\nmaximizing human and organizational resources (GB, 1994:10). \\nProgram Achievement \\nThe national family planning/MCH program is being implemented with a contingent of about 30,000 \\nfemale fieldworkers at the village level and a network of service outlets for easy availability of family \\nplanning/MCH services at the client's doorstep. \\nThese efforts have led to impressive achievements for the Bangladesh national family planning \\nprogram, while operating in an unfavorable socioeconomic environment. General awareness about family \\nplanning is universal in Bangladesh; virtually all married women of reproductive age know at least one \\nmodem family planning method. Between 1975 and 1991, the use of contraceptives increased fivefold, from \\n8 to 40 percent of married women (Cleland et al., 1994:32). Between 1981 and 1991, the use of modem \\nmethods increased from 11 to 31 percent of married women, while use of traditional methods increased only \\nslightly, from 8 to 9 percent of married women (Larson and Mitra, 1992:126; Mitra et al., 1993:53). Since \\n1981, the growth in use of reversible methods has outpaced gains by permanent methods, a reflection of the \\nfact that family planning has become more widespread among younger women wishing to space births and \\nthe fact that reversible methods have been more strongly promoted by the supply system. \\n\", mimetype='text/plain', start_char_idx=None, end_char_idx=None, text_template='{metadata_str}\\n\\n{content}', metadata_template='{key}: {value}', metadata_seperator='\\n'),\n",
       " Document(id_='4d90bbfd-0f68-4a7c-b970-203d1bd4fa75', embedding=None, metadata={'page_label': '5', 'file_name': '01Chapter01.pdf', 'file_path': '/mnt/code/frog/rag-llm/data/01Chapter01.pdf', 'file_type': 'application/pdf', 'file_size': 451575, 'creation_date': '2024-06-22', 'last_modified_date': '2024-06-22'}, excluded_embed_metadata_keys=['file_name', 'file_type', 'file_size', 'creation_date', 'last_modified_date', 'last_accessed_date'], excluded_llm_metadata_keys=['file_name', 'file_type', 'file_size', 'creation_date', 'last_modified_date', 'last_accessed_date'], relationships={}, text=\"Factors for Program Success \\nNumerous factors have contributed to the increase in contraceptive use over the past 10 years. The \\nelements identified as having contributed to the success of the program are: (1) strong political commitment \\nto family planning programs by successive governments, (2) successful promotion of a small family norm \\nthrough information and education activities and other multi-sectoral programs, (3) establishment of a \\nwidespread infrastructure for delivering family planning and health services down to the village level, (4) \\nincreased involvement of nongovernmental organizations to supplement and complement government's \\nefforts, (5) flexibility to make policy and programmatic adjustments in response to emerging needs, and (6) \\nstrong support of the program by the international aid community (GB, 1994:36). \\nThe success achieved so far in the national family planning program is encouraging and has increased \\nthe confidence that it is possible to achieve further progress. But there remain several issues of concern, such \\nas the tremendous growth potential built into the age structure as a consequence of past high fertility. Due \\nto the increasing population entering childbearing age, the program will have to increase efforts substantially \\njust to maintain the current level of contraceptive use. If demand for family planning also increases, that will \\nput even more strain on the program. Other concerns are lack of a steady supply of contraceptives from \\nextemal sources, which affects program performance; the need for further improvement in access to and \\nquality of facilities and services; and the need for men to participate more actively in family planning \\nacceptance. \\nDespite these constraints, there exists a substantial demand for family planning services in \\nBangladesh and there is a need to assign priority to meeting that demand by improving the quality and \\nsupervision of outreach services. \\n1.4 Objectives of the 1993-94 Bangladesh Demographic and Health Survey \\nThe BDHS is intended to serve as a source of population and health data for policymakers and the \\nresearch community. In general, the objectives of the BDHS are to: \\nassess the overall demographic situation in Bangladesh, \\nassist in the evaluation of the population and health programs in Bangladesh, and \\nadvance survey methodology. \\nMore specifically, the BDHS was designed to: \\nprovide data on the family planning and fertility behavior of the Bangladeshi population to \\nevaluate the national family planning program, \\nmeasure changes in fertility and contraceptive prevalence and, at the same time, study the \\nfactors which affect these changes, such as marriage patterns, urban/rural residence, \\navailability of contraception, breastfeeding patterns, and other socioeconomic factors, and \\nexamine the basic indicators of maternal and child health in Bangladesh. \\n5 \\n\", mimetype='text/plain', start_char_idx=None, end_char_idx=None, text_template='{metadata_str}\\n\\n{content}', metadata_template='{key}: {value}', metadata_seperator='\\n'),\n",
       " Document(id_='1b0ac1c4-1c01-41ba-8ecd-afc47eded30e', embedding=None, metadata={'page_label': '6', 'file_name': '01Chapter01.pdf', 'file_path': '/mnt/code/frog/rag-llm/data/01Chapter01.pdf', 'file_type': 'application/pdf', 'file_size': 451575, 'creation_date': '2024-06-22', 'last_modified_date': '2024-06-22'}, excluded_embed_metadata_keys=['file_name', 'file_type', 'file_size', 'creation_date', 'last_modified_date', 'last_accessed_date'], excluded_llm_metadata_keys=['file_name', 'file_type', 'file_size', 'creation_date', 'last_modified_date', 'last_accessed_date'], relationships={}, text='1.5 Survey Organization \\nThe 1993-94 BDHS was conducted under the authority of the National Institute of Population \\nResearch and Training (NIPORT) of the Ministry of Health and Family Welfare. The survey was \\nimplemented by Mitra and Associates, a private research firm located in Dhaka. Macro International Inc. of \\nCalverton, Maryland provided technical assistance to the project as part of the international Demographic and \\nHealth Surveys program. Financial assistance was provided by the U.S. Agency for International \\nDevelopment (USAID)/Dhaka. \\nSample Design \\nBangladesh is divided into five administrative divisions, 64 districts (zillas), and 489 thanas. In rural \\nareas, thanas are divided into unions and then mauzas, an administrative land unit. Urban areas are divided \\ninto wards and then mahallas. The 1993-94 BDHS employed a nationally-representative, two-stage sample. \\nIt was selected from the Integrated Multi-Purpose Master Sample (IMPS), newly created by the Bangladesh \\nBureau of Statistics. The IMPS is based on 1991 census data. Each of the five divisions was stratified into \\nthree groups: 1) statistical metropolitan areas (SMAs) 2, 2) municipalities (other urban areas), and 3) rural \\nareas. In rural areas, the primary sampling unit was the mauza, while in urban areas, it was the mahalla. \\nBecause the primary sampling units in the IMPS were selected with probability proportional to size from the \\n1991 census frame, the units for the BDHS were subselected from the IMPS with equal probabdity to make \\nthe BDHS selection equivalent to selection with probability proportional to size. A total of 304 primary \\nsampling units were selected for the BDHS (30 in SMAs, 40 in municipalities, and 234 in rural areas), out \\nof the 372 in the IMPS. Fieldwork in three sample points was not possible, so a total of 301 points were \\ncovered in the survey. \\nSince one objective of the BDHS is to provide separate survey estimates for each division as well as \\nfor urban and rural areas separately, it was necessary to increase the sampling rate for Barisal Division und \\nfor municipalities relative to the other divisions, SMAs, and rural areas. Thus, the BDHS sample is not self- \\nweighting and weighting factors have been applied to the data in this report. \\nAfter the selection of the BDHS sample points, field staff were trained by Mitra and Associates and \\nconducted a household listing operation in September and October 1993. A systematic sample of households \\nwas then selected from these lists, with an average \"take\" of 25 households in the urban clusters and 37 \\nhouseholds in rural clusters. Every second household was identified as selected for the husband\\'s survey, \\nmeaning that, in addition to interviewing all ever-married women age 10-49, interviewers also interviewed \\nthe husband of any woman who was successfully interviewed. It was expected that the sample would yield \\ninterviews with approximately 10,000 ever-married women age 10-49 and 4,200 of their husbands. ? \\nQuestionnaires \\nFour types of questionnaires were used for the BDHS: a Household Questionnaire, a Women\\'s \\nQuestionnaire, a Husbands\\' Questionnaire, and a Service Availability Questionnaire. The contents of these \\nquestionnaires were based on the DHS Model A Questionnaire, which is designed for use in countries with \\nrelatively high levels of contraceptive use. Additions and modifications to the model questionnaires were \\nmade during a series of meetings with representatives of various organizations, including the Asia \\n2 SMAs are extensions of the division headquarters and include rural areas. \\n3 Not all ever-married women were currently married, and some of the eligible husbands could not be mtcrviewed \\nfor various reasons. \\n6 \\n', mimetype='text/plain', start_char_idx=None, end_char_idx=None, text_template='{metadata_str}\\n\\n{content}', metadata_template='{key}: {value}', metadata_seperator='\\n'),\n",
       " Document(id_='aa0f8f59-432a-4f50-ac5c-f26762912545', embedding=None, metadata={'page_label': '7', 'file_name': '01Chapter01.pdf', 'file_path': '/mnt/code/frog/rag-llm/data/01Chapter01.pdf', 'file_type': 'application/pdf', 'file_size': 451575, 'creation_date': '2024-06-22', 'last_modified_date': '2024-06-22'}, excluded_embed_metadata_keys=['file_name', 'file_type', 'file_size', 'creation_date', 'last_modified_date', 'last_accessed_date'], excluded_llm_metadata_keys=['file_name', 'file_type', 'file_size', 'creation_date', 'last_modified_date', 'last_accessed_date'], relationships={}, text=\"Foundation, the Bangladesh Bureau of Statistics, the Cambridge Consulting Corporation, the Family Planning \\nAssociation of Bangladesh, GTZ, the International Centre for Diarrhoeal Disease Research (ICDDR,B), \\nPathfinder International, Population Communications Services, the Population Council, the Social Marketing \\nCompany, UNFPA, UNICEF, University Research Corporation/Bangladesh, and the World Bank. The \\nquestionnaires were developed in English and then translated into and printed in Bangla. \\nThe Household Questionnaire was used to list all the usual members and visitors of selected \\nhouseholds. Some basic information was collected on the characteristics of each person listed, including \\nhis/her age, sex, education, and relationship to the head of the household. The main purpose of the Household \\nQuestionnaire was to identify women and men who were eligible for individual interview. In addition, \\ninformation was collected about the dwelling itself, such as the source of water, type of toilet facilities, \\nmaterials used to construct the house, and ownership of various consumer goods. \\nThe Women's Questionnaire was used to collect information from ever-married women age 10-49. \\nThese women were asked questions on the following topics: \\nBackground characteristics (age, education, religion, etc.), \\nReproductive history, \\nKnowledge and use of family planning methods, \\nAntenatal and delivery care, \\nBreastfeeding and weaning practices, \\nVaccinations and health of children under age three, \\nMarriage, \\nFertility preferences, and \\nHusband's background and respondent's work. \\nThe Husbands' Questionnaire was used to interview the husbands of a subsample of women who \\nwere interviewed. The questionnaire included many of the same questions as the Women's Questionnaire, \\nexcept that it omitted the detailed birth history, as well as the sections on maternal care, breastfeeding and \\nchild health. \\nThe Service Availability Questionnaire was used to collect information on the family planning and \\nhealth services available in and near the sampled areas. It consisted of a set of three questionnaires: one to \\ncollect data on characteristics of the community, one for interviewing family welfare visitors and one for \\ninterviewing family planning field workers, whether govemment or nongovemment supported. One set of \\nservice availability questionnaires was to be completed in each cluster (sample point). \\nFieldwork \\nThe BDHS questionnaires were pretested in July 1993. Male and female interviewers were trained \\nfor 10 days at the office of Mitra and Associates. Many of the interviewers had participated in prior surveys. \\nAfter training, the teams spent nine days in the field conducting interviews under the observation of staff from \\nMitra and Associates. Altogether, 209 women's and 57 husbands' questionnaires were completed. The field \\nteams then spent three days in Dhaka in debriefing meetings, discussing the fieldwork and suggesting \\nmodifications to the questionnaires. On the basis of these suggestions, revisions in the wording and \\ntranslations of the questionnaires were made. \\nIn October 1993, candidates for field staffpositions for the main survey were recruited. Recruitment \\ncriteria included educational attainment, maturity, ability to spend one month in training and at least four \\nmonths in the field, and experience in other surveys. A total of 102 trainees were recruited. \\n\", mimetype='text/plain', start_char_idx=None, end_char_idx=None, text_template='{metadata_str}\\n\\n{content}', metadata_template='{key}: {value}', metadata_seperator='\\n'),\n",
       " Document(id_='e5c723a0-e64e-4b89-b6ac-4c75f5b56c6b', embedding=None, metadata={'page_label': '8', 'file_name': '01Chapter01.pdf', 'file_path': '/mnt/code/frog/rag-llm/data/01Chapter01.pdf', 'file_type': 'application/pdf', 'file_size': 451575, 'creation_date': '2024-06-22', 'last_modified_date': '2024-06-22'}, excluded_embed_metadata_keys=['file_name', 'file_type', 'file_size', 'creation_date', 'last_modified_date', 'last_accessed_date'], excluded_llm_metadata_keys=['file_name', 'file_type', 'file_size', 'creation_date', 'last_modified_date', 'last_accessed_date'], relationships={}, text=\"Training for the main survey was conducted at Mitra and Associates offices for four weeks (from 18 \\nOctober to 15 November 1993). Initially, training consisted of lectures on how to fill in the questionnaires, \\nwith mock interviews between participants to gain practice in asking questions. Towards the end of the \\ntraining, participants spent several days in field practice interviewing in various parts of Dhaka and \\nChittagong cities, as well as in some rural areas of the Tangail and Gazipur Districts. Trainees whose \\nperformance was considered superior were selected to be supervisors and field editors. \\nFieldwork for the BDHS was carried out by 12 interviewing teams. Each consisted of 1 male \\nsupervisor, 1 female field editor, 4 female interviewers, and 2 male interviewers, for a total of 96 field staff. \\nIn addition, each team included one person who was responsible for completing the Service Availability \\nQuestionnaire. Finally, Mitra and Associates fielded four quality control teams of two people each to check \\non the field teams. Fieldwork commenced on 17 November 1993 and was completed on 12 March 1994. \\nThe distribution of individual interviews with women was roughly: November (12 percent); December (25 \\npercent); January (27 percent); February (26 percent); and March (10 percent). \\nData Processing \\nAll questionnaires for the BDHS were re- \\nturned to Dhaka for data processing at Mitra and \\nAssociates. The processing operation consisted of \\noffice editing, coding of open-ended questions, \\ndata entry, and editing inconsistencies found by \\nthe computer programs. One senior staff member, \\n1 data processing supervisor, 1 questionnaire ad- \\nministrator, 2 office editors, and 5 data entry oper- \\nators were responsible for the data processing op- \\neration. The data were processed on five micro- \\ncomputers. The DHS data entry and editing pro- \\ngrams were written in ISSA (Integrated System \\nfor Survey Analysis). Data processing commenced \\nin early February and was completed by late April \\n1994. \\nResponse Rates \\nTable 1.1 shows response rates for the sur- Table 1.1 Results of the household and individual interviews \\nNumber of households, number of interviews and response \\nrates, Bangladesh 1993-94 \\nResidence \\nResult Urban Rural Total \\nHousehold Interviews \\nHouseholds sampled 1495 8186 9681 \\nHouseholds found 1401 7854 9255 \\nHouseholds interviewed 1376 7798 9174 \\nHousehold response rate 98.2 99.3 99.1 \\nIndividual interviews \\nNumber of eligible women 1510 8390 9900 \\nNumber of eligible women \\ninterviewed 1466 8174 9640 \\nEligible woman response rate 97.1 97.4 97.4 \\nNumber of eligible husbands 589 3285 3874 \\nNumber of eligible husbands \\ninterviewed 500 2784 3284 \\nEligible husband response rate 84.9 84.7 84,8 \\nvey and reasons for nonresponse. A total of 9,681 households were selected for the sample, of which 9,174 \\nwere successfully interviewed. The shortfall is primarily due to dwellings that were vacant, or in which the \\ninhabitants had left for an extended period at the time they were visited by the interviewing teams. Of the \\n9,255 households that were occupied, 99 percent were successfully interviewed. In these households, 9,900 \\nwomen were identified as eligible for the individual interview and interviews were completed for 9,640 or \\n97 percent of these. In one-half of the households that were selected for inclusion in the husbands' survey, \\n3,874 eligible husbands were identified, of which 3,284 or 85 percent were interviewed. \\nThe principal reason for nonresponse among eligible women and men was failure to find them at \\nhome despite repeated visits to the household. The refusal rate was very low (less than one-tenth of one per- \\ncent among women and husbands), Since the main reason for interviewing husbands was to match the infor- \\nmation with that from their wives, survey procedures called for interviewers not to interview husbands of \\nwomen who were not interviewed. Such cases account for about one-third of the non-response among hus- \\nbands. Where husbands and wives were both interviewed, they were interviewed simultaneously but \\nseparately. \\n\", mimetype='text/plain', start_char_idx=None, end_char_idx=None, text_template='{metadata_str}\\n\\n{content}', metadata_template='{key}: {value}', metadata_seperator='\\n')]"
      ]
     },
     "execution_count": 27,
     "metadata": {},
     "output_type": "execute_result"
    }
   ],
   "source": [
    "documents"
   ]
  },
  {
   "cell_type": "code",
   "execution_count": 30,
   "metadata": {},
   "outputs": [],
   "source": [
    "import time\n",
    "retry_attempts = 3\n",
    "wait_time = 60  # seconds"
   ]
  },
  {
   "cell_type": "code",
   "execution_count": 33,
   "metadata": {},
   "outputs": [],
   "source": [
    "import time\n",
    "import random\n",
    "from llama_index.embeddings.openai.base import get_embeddings  "
   ]
  },
  {
   "cell_type": "code",
   "execution_count": 36,
   "metadata": {},
   "outputs": [],
   "source": [
    "def create_index_with_retries(documents, max_retries=5, initial_wait=1.0):\n",
    "    retry_attempts = 0\n",
    "    while retry_attempts < max_retries:\n",
    "        try:\n",
    "            index = VectorStoreIndex.from_documents(documents, show_progress=True)\n",
    "            return index  # Return the index if successful\n",
    "        except Exception as e:\n",
    "            print(f\"Error creating index: {e}\")\n",
    "            retry_attempts += 1\n",
    "            if retry_attempts < max_retries:\n",
    "                print(f\"Retrying in {initial_wait} seconds\")\n",
    "                time.sleep(initial_wait)\n",
    "                initial_wait *= 2"
   ]
  },
  {
   "cell_type": "code",
   "execution_count": 37,
   "metadata": {},
   "outputs": [
    {
     "name": "stderr",
     "output_type": "stream",
     "text": [
      "\n",
      "\n",
      "\n",
      "\n",
      "Parsing nodes: 100%|██████████| 8/8 [00:00<00:00, 750.69it/s]\n",
      "\n",
      "\n",
      "\n",
      "\n",
      "\u001b[A\u001b[A\u001b[A\u001b[A"
     ]
    },
    {
     "name": "stdout",
     "output_type": "stream",
     "text": [
      "Error creating index: Error code: 429 - {'error': {'message': 'You exceeded your current quota, please check your plan and billing details. For more information on this error, read the docs: https://platform.openai.com/docs/guides/error-codes/api-errors.', 'type': 'insufficient_quota', 'param': None, 'code': 'insufficient_quota'}}\n",
      "Retrying in 1.0 seconds\n"
     ]
    },
    {
     "name": "stderr",
     "output_type": "stream",
     "text": [
      "\n",
      "\n",
      "\n",
      "\n",
      "\n",
      "Parsing nodes: 100%|██████████| 8/8 [00:00<00:00, 742.62it/s]\n",
      "\n",
      "\n",
      "\n",
      "\n",
      "\n",
      "\u001b[A\u001b[A\u001b[A\u001b[A\u001b[A"
     ]
    }
   ],
   "source": [
    "index = create_index_with_retries(documents)\n"
   ]
  },
  {
   "cell_type": "code",
   "execution_count": null,
   "metadata": {},
   "outputs": [],
   "source": []
  }
 ],
 "metadata": {
  "kernelspec": {
   "display_name": ".venv",
   "language": "python",
   "name": "python3"
  },
  "language_info": {
   "codemirror_mode": {
    "name": "ipython",
    "version": 3
   },
   "file_extension": ".py",
   "mimetype": "text/x-python",
   "name": "python",
   "nbconvert_exporter": "python",
   "pygments_lexer": "ipython3",
   "version": "3.11.8"
  }
 },
 "nbformat": 4,
 "nbformat_minor": 2
}
